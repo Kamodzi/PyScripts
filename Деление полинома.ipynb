{
 "cells": [
  {
   "cell_type": "code",
   "execution_count": 3,
   "metadata": {},
   "outputs": [],
   "source": [
    "import numpy as np"
   ]
  },
  {
   "cell_type": "code",
   "execution_count": 61,
   "metadata": {},
   "outputs": [
    {
     "name": "stdout",
     "output_type": "stream",
     "text": [
      "Деление многочлена\n",
      "  [-42, 0, -12, 1] / [-3, 1, 0, 0] =\n",
      " [27.0, 9.0, 1.0] Остаток [123.0]\n"
     ]
    }
   ],
   "source": [
    "\n",
    "from math import fabs\n",
    "\n",
    "def degree(poly):\n",
    "    while poly and poly[-1] == 0:\n",
    "        poly.pop()  \n",
    "    return len(poly)-1\n",
    "\n",
    "def poly_div(N, D):\n",
    "    dD = degree(D)\n",
    "    dN = degree(N)\n",
    "    if dD < 0: raise ZeroDivisionError\n",
    "    if dN >= dD:\n",
    "        q = [0] * dN\n",
    "        while dN >= dD:\n",
    "            d = [0]*(dN - dD) + D\n",
    "            mult = q[dN - dD] = N[-1] / float(d[-1])\n",
    "            d = [coeff*mult for coeff in d]\n",
    "            N = [fabs ( coeffN - coeffd ) for coeffN, coeffd in zip(N, d)]\n",
    "            dN = degree(N)\n",
    "        r = N\n",
    "    else:\n",
    "        q = [0]\n",
    "        r = N\n",
    "    return q, r\n",
    "\n",
    "\n",
    "print (\"Деление многочлена\")\n",
    "N = [-42, 0, -12, 1]\n",
    "D = [-3, 1, 0, 0]\n",
    "print (\"  %s / %s =\" % (N,D),)\n",
    "print (\" %s Остаток %s\" % poly_div(N, D))"
   ]
  },
  {
   "cell_type": "code",
   "execution_count": null,
   "metadata": {},
   "outputs": [],
   "source": []
  }
 ],
 "metadata": {
  "kernelspec": {
   "display_name": "Python 3.10.7 64-bit",
   "language": "python",
   "name": "python3"
  },
  "language_info": {
   "codemirror_mode": {
    "name": "ipython",
    "version": 3
   },
   "file_extension": ".py",
   "mimetype": "text/x-python",
   "name": "python",
   "nbconvert_exporter": "python",
   "pygments_lexer": "ipython3",
   "version": "3.10.7"
  },
  "orig_nbformat": 4,
  "vscode": {
   "interpreter": {
    "hash": "6a65bde8cb7cc6789629aee4803b2d9ff2ed1fbf03f46994fdd96bb6b8d54958"
   }
  }
 },
 "nbformat": 4,
 "nbformat_minor": 2
}
